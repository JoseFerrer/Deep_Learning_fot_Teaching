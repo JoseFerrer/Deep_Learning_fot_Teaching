{
  "nbformat": 4,
  "nbformat_minor": 0,
  "metadata": {
    "colab": {
      "name": "Modelo de Hodgkin-Huxley_ant.ipynb",
      "private_outputs": true,
      "provenance": [],
      "collapsed_sections": [],
      "include_colab_link": true
    },
    "kernelspec": {
      "name": "python3",
      "display_name": "Python 3"
    }
  },
  "cells": [
    {
      "cell_type": "markdown",
      "metadata": {
        "id": "view-in-github",
        "colab_type": "text"
      },
      "source": [
        "<a href=\"https://colab.research.google.com/github/JoseFerrer/Deep_Learning_fot_Teaching/blob/main/Modelo_de_Hodgkin_Huxley_ant.ipynb\" target=\"_parent\"><img src=\"https://colab.research.google.com/assets/colab-badge.svg\" alt=\"Open In Colab\"/></a>"
      ]
    },
    {
      "cell_type": "markdown",
      "metadata": {
        "id": "aJEQhkqFg5jC"
      },
      "source": [
        "# **Modelo de Hodgkin–Huxley**\n",
        "Este `notebook`está basado en el trabajo de [@amasky](https://github.com/amasky/hodgkin-huxley-model)"
      ]
    },
    {
      "cell_type": "code",
      "metadata": {
        "id": "g_HbdI5kg5jE"
      },
      "source": [
        "import numpy as np\n",
        "import matplotlib.pyplot as plt\n",
        "plt.style.use('ggplot')"
      ],
      "execution_count": null,
      "outputs": []
    },
    {
      "cell_type": "markdown",
      "metadata": {
        "id": "pa2SjJ0wp2tw"
      },
      "source": [
        "En el paper [A quantitative description of membrane current and its application to conduction and excitation in nerve](https://www.ncbi.nlm.nih.gov/pmc/articles/PMC1392413/) de A. L. Hodgkin and A. F. Huxley (1952), se presenta un modelo que explica los mecanismos iónicos subyacenes al inicio y propagación de los potenciales de acción en axón del calamar gigante. Este trabajo recibió el premio nobel de fisiología en 1963.\n",
        "\n",
        "### **Axón del calamar gigante**\n",
        "\n",
        "![](https://upload.wikimedia.org/wikipedia/commons/1/19/Giant_Axon_of_Squid_%2814356033761%29.jpg)\n",
        "\n",
        "### **Modelo de Hodgkin-Huxley**\n",
        "\n",
        "![](https://upload.wikimedia.org/wikipedia/commons/thumb/9/98/Hodgkin-Huxley.svg/512px-Hodgkin-Huxley.svg.png)"
      ]
    },
    {
      "cell_type": "markdown",
      "metadata": {
        "id": "I_l5RY4pg5jQ"
      },
      "source": [
        "### **Definir las constantes y time steps**"
      ]
    },
    {
      "cell_type": "code",
      "metadata": {
        "id": "clMN88Lsg5jS"
      },
      "source": [
        "dt = 0.01      # paso de tiempo\n",
        "T = 5000       # cantidad de pasos simulados\n",
        "C_m = 1.       # capacitancia de membrana (microF/cm**2)\n",
        "G_k = 40.      # conductancia máxima potasio (mS/cm**2)\n",
        "G_l = 0.24     # máxima fuga de conductancia (mS/cm**2)\n",
        "G_na = 120.    # máxima conductancia de sodio (mS/cm**2)\n",
        "V_k = -12.0    # potencial reverso de potasio (mV)\n",
        "V_l = 10.613   # fuga de potencial (mV)\n",
        "V_na = 115.    # potencial reverso de sodio (mV)"
      ],
      "execution_count": null,
      "outputs": []
    },
    {
      "cell_type": "markdown",
      "metadata": {
        "id": "X1no9yb5g5jX"
      },
      "source": [
        "##**Las 4 ecuaciones del modelo de  Hodgkin-Huxley**\n",
        "\n",
        "\n",
        "* $C_M\\displaystyle \\frac{dV}{dt}=-g_{Na}(V-V_{Na})-g_k(V-V_K)-g_l(V-V_l)+I$ ($V$: Potential de membrana)  \n",
        "* $\\displaystyle \\frac{dh}{dt}=\\alpha_h{(V)}(1-h)-\\beta_h(V)h$ ($h$:  Inactivación de Sodio)  \n",
        "* $\\displaystyle \\frac{dm}{dt}=\\alpha_m{(V)}(1-m)-\\beta_m(V)m$ ($m$: Activación de Sodio)  \n",
        "* $\\displaystyle \\frac{dn}{dt}=\\alpha_n{(V)}(1-n)-\\beta_n(V)n$ ($n$:Activación de Potasio)  "
      ]
    },
    {
      "cell_type": "code",
      "metadata": {
        "id": "9kzYAE1Hg5jY"
      },
      "source": [
        "def dv(v, param, dt):\n",
        "    h, m, n, i = param\n",
        "    gna = G_na * h * (m**3)\n",
        "    gk = G_k * (n**4)\n",
        "    gl = G_l\n",
        "    ina = gna * (v - V_na)\n",
        "    ik = gk * (v - V_k)\n",
        "    il = gl * (v - V_l)\n",
        "    return (- ina - ik - il + i) * dt / C_m\n",
        "\n",
        "def dh(h, param, dt):\n",
        "    v = param\n",
        "    alph = 0.07 * np.exp(-v / 20)\n",
        "    beth = 1. / (np.exp((30 - v) / 10) + 1)\n",
        "    return (alph * (1 - h) - beth * h) * dt\n",
        "\n",
        "def dm(m, param, dt):\n",
        "    v = param\n",
        "    alpm = 0.1 * (25 - v) / (np.exp((25 - v) / 10) - 1)\n",
        "    betm = 4. * np.exp(-v / 18)\n",
        "    return (alpm * (1 - m) - betm * m) * dt\n",
        "\n",
        "def dn(n, param, dt):\n",
        "    v = param\n",
        "    alpn = 0.01 * (10 - v) / (np.exp((10 - v) / 10) - 1)\n",
        "    betn = 0.125 * np.exp(-v / 80)\n",
        "    return (alpn * (1 - n) - betn * n) * dt"
      ],
      "execution_count": null,
      "outputs": []
    },
    {
      "cell_type": "markdown",
      "metadata": {
        "id": "EsGUfMWhg5jd"
      },
      "source": [
        "### Actualizar las variables por el método de Runge–Kutta"
      ]
    },
    {
      "cell_type": "code",
      "metadata": {
        "id": "uqvsE9P6g5je"
      },
      "source": [
        "def rk4(f, y, param, dt):\n",
        "    k1 = f(y, param, dt)\n",
        "    k2 = f(y + dt * k1 * 0.5, param, dt)\n",
        "    k3 = f(y + dt * k2 * 0.5, param, dt)\n",
        "    k4 = f(y + dt * k3, param, dt)\n",
        "    return (k1 + 2*k2 + 2*k3 + k4) / 6\n",
        "\n",
        "def update(v, h, m, n, i, dt):\n",
        "    v += rk4(dv, v, (h, m, n, i), dt)\n",
        "    h += rk4(dh, h, v, dt)\n",
        "    m += rk4(dm, m, v, dt)\n",
        "    n += rk4(dn, n, v, dt)\n",
        "    return v, h, m, n"
      ],
      "execution_count": null,
      "outputs": []
    },
    {
      "cell_type": "markdown",
      "metadata": {
        "id": "Y_dYzrkQg5jo"
      },
      "source": [
        "### Initializar las variables"
      ]
    },
    {
      "cell_type": "code",
      "metadata": {
        "id": "YgSUZRgfg5jo"
      },
      "source": [
        "#@title **Simulación** { run: \"auto\" }\n",
        "\n",
        "#@markdown  **Potencial de membrana [mV]**\n",
        "#vt = 0. # potential de membrana (mV)\n",
        "vt = 0 #@param {type:\"slider\", min:-90, max:50, step:10}\n",
        "#mt = 0. # Canal de activación de sodio (sin unidades)\n",
        "mt = 1 #@param {type:\"slider\", min:0, max:10, step:1}\n",
        "#nt = 0. # Canal de activación de potasio (sin unidades)\n",
        "nt = 1 #@param {type:\"slider\", min:0, max:10, step:1}\n",
        "#ht = 0. # Canal de inactivación de sodio (sin unidades)\n",
        "ht = 1 #@param {type:\"slider\", min:0, max:10, step:1}\n",
        "\n",
        "\n",
        "# corriente total de membrana (microA/cm**2)\n",
        "it = [10] * 500 + [0] * (T - 500) "
      ],
      "execution_count": null,
      "outputs": []
    },
    {
      "cell_type": "markdown",
      "metadata": {
        "id": "xS5M5mfXg5jv"
      },
      "source": [
        "### Definir la corriente de membrana"
      ]
    },
    {
      "cell_type": "code",
      "metadata": {
        "id": "_ZJ5lzp-g5jv"
      },
      "source": [
        "plt.figure(figsize=(15,5))\n",
        "plt.xlabel('$t$ (ms)')\n",
        "plt.ylabel('$I$ $\\mathrm{(\\mu/cm^2)}$')\n",
        "plt.xlim(-1, 30)\n",
        "plt.ylim(-2, 12)\n",
        "xticks = [x * dt for x in range(-500, 0)] + [x * dt for x in range(T)]\n",
        "plt.plot(xticks, [0]*500 + it)\n",
        "plt.title('Corriente de membrana $I$')\n",
        "plt.show()"
      ],
      "execution_count": null,
      "outputs": []
    },
    {
      "cell_type": "markdown",
      "metadata": {
        "id": "xRgJq_Vhg5j6"
      },
      "source": [
        "### Obtener los valores en cada paso de tiempo"
      ]
    },
    {
      "cell_type": "code",
      "metadata": {
        "id": "IpzvgfNSg5j9"
      },
      "source": [
        "vts, hts, mts, nts = ([] for i in range(4))\n",
        "for t in range(int(100 // dt)):\n",
        "    vt, ht, mt, nt = update(v=vt, h=ht, m=mt, n=nt, i=0, dt=dt)\n",
        "    # deshacer los resultados de 100 (ms)\n",
        "for t in range(T):\n",
        "    vt, ht, mt, nt = update(v=vt, h=ht, m=mt, n=nt, i=it[t], dt=dt)\n",
        "    vts.append(vt)\n",
        "    hts.append(ht)\n",
        "    mts.append(mt)\n",
        "    nts.append(nt)"
      ],
      "execution_count": null,
      "outputs": []
    },
    {
      "cell_type": "markdown",
      "metadata": {
        "id": "eTpEwkoTg5kD"
      },
      "source": [
        "###Potencial de membrana"
      ]
    },
    {
      "cell_type": "code",
      "metadata": {
        "scrolled": true,
        "id": "AgaUx_k9g5kE"
      },
      "source": [
        "plt.figure(figsize=(15,5))\n",
        "plt.xlabel('$t$ (ms)')\n",
        "plt.ylabel('$V$ (mV)')\n",
        "plt.xlim(0, 30)\n",
        "plt.ylim(-40, 120) # -20, 120\n",
        "xticks = [x * dt for x in range(T)]\n",
        "plt.plot(xticks, vts)\n",
        "plt.title('Potencial de membrana $V$')\n",
        "plt.show()"
      ],
      "execution_count": null,
      "outputs": []
    },
    {
      "cell_type": "markdown",
      "metadata": {
        "id": "NaRYfb9hg5kI"
      },
      "source": [
        "###La activación de cada canal"
      ]
    },
    {
      "cell_type": "code",
      "metadata": {
        "id": "Gxs3cxKmg5kJ"
      },
      "source": [
        "plt.figure(figsize=(15,5))\n",
        "plt.xlabel('$t$ (ms)')\n",
        "plt.xlim(0, 30)\n",
        "plt.ylim(-0.1, 1.1)\n",
        "xticks = [x * dt for x in range(T)]\n",
        "plt.plot(xticks, hts)\n",
        "plt.plot(xticks, mts)\n",
        "plt.plot(xticks, nts)\n",
        "plt.legend(['h (Inactivación de sodio)', \n",
        "            'm (Activación de sodio)',\n",
        "            'n (Activación de potasio)'],\n",
        "           loc=1)\n",
        "plt.title('Activación de canal iónico')\n",
        "plt.show()"
      ],
      "execution_count": null,
      "outputs": []
    },
    {
      "cell_type": "markdown",
      "metadata": {
        "id": "yOC2fqdsg5kN"
      },
      "source": [
        "## Potenciales múltiples"
      ]
    },
    {
      "cell_type": "code",
      "metadata": {
        "id": "R9u2yEEwg5kO"
      },
      "source": [
        "vt = mt = nt = ht = 0.\n",
        "it = [10] * T\n",
        "vts, hts, mts, nts = ([] for i in range(4))\n",
        "for t in range(int(100 // dt)):\n",
        "    vt, ht, mt, nt = update(v=vt, h=ht, m=mt, n=nt, i=0, dt=dt)\n",
        "for t in range(T):\n",
        "    vt, ht, mt, nt = update(v=vt, h=ht, m=mt, n=nt, i=it[t], dt=dt)\n",
        "    vts.append(vt)\n",
        "    hts.append(ht)\n",
        "    mts.append(mt)\n",
        "    nts.append(nt)"
      ],
      "execution_count": null,
      "outputs": []
    },
    {
      "cell_type": "code",
      "metadata": {
        "id": "zD4PLHxpg5ka"
      },
      "source": [
        "plt.figure(figsize=(15,5))\n",
        "plt.xlabel('$t$ (ms)')\n",
        "plt.ylabel('$I$ $\\mathrm{(\\mu/cm^2)}$')\n",
        "plt.xlim(-5, 50)\n",
        "plt.ylim(-2, 12)\n",
        "xticks = [x * dt for x in range(-500, 0)] + [x * dt for x in range(T)]\n",
        "plt.plot(xticks, [0]*500 + it)\n",
        "plt.title('Corriente de membrana $I$')\n",
        "plt.show()"
      ],
      "execution_count": null,
      "outputs": []
    },
    {
      "cell_type": "code",
      "metadata": {
        "id": "v7VMWzBbg5kf"
      },
      "source": [
        "plt.figure(figsize=(15,5))\n",
        "plt.xlabel('$t$ (ms)')\n",
        "plt.ylabel('$V$ (mV)')\n",
        "plt.xlim(0, 50)\n",
        "plt.ylim(-20, 120)\n",
        "xticks = [x * dt for x in range(T)]\n",
        "plt.plot(xticks, vts)\n",
        "plt.title('Potencial de membrana $V$')\n",
        "plt.show()\n"
      ],
      "execution_count": null,
      "outputs": []
    },
    {
      "cell_type": "markdown",
      "metadata": {
        "id": "4r48M-Pxg5kl"
      },
      "source": [
        "## Periodo refractario o hiperpolarización"
      ]
    },
    {
      "cell_type": "code",
      "metadata": {
        "id": "cZySh07dg5km"
      },
      "source": [
        "vt = mt = nt = ht = 0.\n",
        "it = ([10] * 200 + [0] * 800) * (T // 1000)\n",
        "vts, hts, mts, nts = ([] for i in range(4))\n",
        "for t in range(int(100 / dt)):\n",
        "    vt, ht, mt, nt = update(v=vt, h=ht, m=mt, n=nt, i=0, dt=dt)\n",
        "for t in range(T):\n",
        "    vt, ht, mt, nt = update(v=vt, h=ht, m=mt, n=nt, i=it[t], dt=dt)\n",
        "    vts.append(vt)\n",
        "    hts.append(ht)\n",
        "    mts.append(mt)\n",
        "    nts.append(nt)"
      ],
      "execution_count": null,
      "outputs": []
    },
    {
      "cell_type": "code",
      "metadata": {
        "id": "5FG5aVFtg5kp"
      },
      "source": [
        "plt.figure(figsize=(15,5))\n",
        "plt.xlabel('$t$ (ms)')\n",
        "plt.ylabel('$I$ $\\mathrm{(\\mu/cm^2)}$')\n",
        "plt.xlim(-5, 30)\n",
        "plt.ylim(-2, 12)\n",
        "xticks = [x * dt for x in range(-500, 0)] + [x * dt for x in range(T)]\n",
        "plt.plot(xticks, [0]*500 + it)\n",
        "plt.title('Corriente de membrana  $I$')\n",
        "plt.show()"
      ],
      "execution_count": null,
      "outputs": []
    },
    {
      "cell_type": "code",
      "metadata": {
        "id": "jXj9dFhsg5ku"
      },
      "source": [
        "plt.figure(figsize=(15,5))\n",
        "plt.xlabel('$t$ (ms)')\n",
        "plt.ylabel('$V$ (mV)')\n",
        "plt.xlim(0, 30)\n",
        "plt.ylim(-20, 120)\n",
        "xticks = [x * dt for x in range(T)]\n",
        "plt.plot(xticks, vts)\n",
        "plt.title('Potencial de membrana $V$')\n",
        "plt.show()"
      ],
      "execution_count": null,
      "outputs": []
    },
    {
      "cell_type": "markdown",
      "metadata": {
        "id": "pHGT7B1NtD-y"
      },
      "source": [
        "### **Ejercicio Práctico**"
      ]
    },
    {
      "cell_type": "markdown",
      "metadata": {
        "id": "BT8ZY5XovERt"
      },
      "source": [
        "\n",
        "\n",
        "*   Controle el ancho del tren de pulsos correspondiente a la simulación del Periodo refractario o hiperpolarización, ¿qué ocurre? \n",
        "\n",
        "\n"
      ]
    },
    {
      "cell_type": "code",
      "metadata": {
        "id": "_6_KuYBNvrXd"
      },
      "source": [
        "### Desarrolle su código aquí\n",
        "\n",
        "!wget -O radio.jpg https://analesranm.es/wp-content/uploads/2020/numero_137_02/images/rev05_fig04.jpg\n",
        "img=plt.imread('radio.jpg')\n",
        "plt.imshow(img)\n",
        "\n"
      ],
      "execution_count": null,
      "outputs": []
    }
  ]
}