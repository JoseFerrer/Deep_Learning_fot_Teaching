{
  "nbformat": 4,
  "nbformat_minor": 0,
  "metadata": {
    "colab": {
      "name": "AlexNet.ipynb",
      "provenance": [],
      "authorship_tag": "ABX9TyNLjoHhoeNXsjc2qvbk6Rpx",
      "include_colab_link": true
    },
    "kernelspec": {
      "name": "python3",
      "display_name": "Python 3"
    },
    "language_info": {
      "name": "python"
    },
    "accelerator": "GPU"
  },
  "cells": [
    {
      "cell_type": "markdown",
      "metadata": {
        "id": "view-in-github",
        "colab_type": "text"
      },
      "source": [
        "<a href=\"https://colab.research.google.com/github/JoseFerrer/Deep_Learning_fot_Teaching/blob/main/AlexNet.ipynb\" target=\"_parent\"><img src=\"https://colab.research.google.com/assets/colab-badge.svg\" alt=\"Open In Colab\"/></a>"
      ]
    },
    {
      "cell_type": "markdown",
      "metadata": {
        "id": "rKkEMXa_x003"
      },
      "source": [
        "# Implementando LeNet"
      ]
    },
    {
      "cell_type": "markdown",
      "metadata": {
        "id": "p7kP07uFx8MW"
      },
      "source": [
        "## Paqueterías que vamos a utilizar"
      ]
    },
    {
      "cell_type": "markdown",
      "metadata": {
        "id": "W6_t5cX1yD6_"
      },
      "source": [
        "<img src=\"https://techscript24.com/wp-content/uploads/2020/10/86498201-a8bd8680-bd39-11ea-9d08-66b610a8dc01.png\" width=\"50%\">\n",
        "\n",
        "<img src=\"https://encrypted-tbn0.gstatic.com/images?q=tbn:ANd9GcS5ufeQEq94DZpcunTim55puXY6dNookrlRwmiOd1PQFraMl3sjijiYwIDw1j1hfzo2h6c&usqp=CAU\" width=\"50%\">\n",
        "\n",
        "<img src=\"https://encrypted-tbn0.gstatic.com/images?q=tbn:ANd9GcQwDfwjwyxZsRFpjoPFjlsNnKk3J58Gh3bjAap7Td81dyrYSt1XbtZI7lsgartOMjBqM60&usqp=CAU\" width=\"50%\">\n"
      ]
    },
    {
      "cell_type": "code",
      "metadata": {
        "id": "lXL9wJUYNFmm"
      },
      "source": [
        "%tensorflow_version 2.x\n",
        "import tensorflow as tf\n",
        "from tensorflow.keras.datasets import mnist\n",
        "from tensorflow.keras.models import Sequential\n",
        "from tensorflow.keras.layers import Dense, Conv2D, MaxPooling2D, AveragePooling2D, Flatten\n",
        "from tensorflow.keras.optimizers import SGD\n",
        "from tensorflow.keras import utils\n",
        "\n",
        "import matplotlib.pyplot as plt\n",
        "import numpy as np"
      ],
      "execution_count": null,
      "outputs": []
    },
    {
      "cell_type": "markdown",
      "metadata": {
        "id": "y1-QhHZlzbwo"
      },
      "source": [
        "## Importamos los datos"
      ]
    },
    {
      "cell_type": "markdown",
      "metadata": {
        "id": "nJu1QwDtzeme"
      },
      "source": [
        "Usaremos un conocido dataset de imágenes de cifras escritas a mano llamado [MNIST](http://yann.lecun.com/exdb/mnist/), el cual es considerado el \"Hello World\" del deep learning.\n",
        "\n",
        "<img src=\"https://upload.wikimedia.org/wikipedia/commons/thumb/2/27/MnistExamples.png/320px-MnistExamples.png\" width=\"90%\">\n",
        "\n"
      ]
    },
    {
      "cell_type": "markdown",
      "metadata": {
        "id": "6fG4RwMn0unQ"
      },
      "source": [
        "MNIST consta de 60000 imágenes de 28x28 pixeles en escala de grises [0..255]. Para cargar estas imágenes, tenemos una función dentro de Keras llamada `mnist.load_data()`. El cual nos separa la data entre los datos de entrenamiento y los datos de test."
      ]
    },
    {
      "cell_type": "code",
      "metadata": {
        "id": "XoSPOooCNO6e",
        "colab": {
          "base_uri": "https://localhost:8080/"
        },
        "outputId": "5155085f-6ee6-4d28-c3ef-744ad199dab0"
      },
      "source": [
        "img_rows, img_cols = 28, 28 \n",
        "(X_train, y_train), (X_test, y_test) = mnist.load_data()"
      ],
      "execution_count": null,
      "outputs": [
        {
          "output_type": "stream",
          "text": [
            "Downloading data from https://storage.googleapis.com/tensorflow/tf-keras-datasets/mnist.npz\n",
            "11493376/11490434 [==============================] - 0s 0us/step\n"
          ],
          "name": "stdout"
        }
      ]
    },
    {
      "cell_type": "markdown",
      "metadata": {
        "id": "G4CSQ_pu1tVw"
      },
      "source": [
        "## Preparamos los datos"
      ]
    },
    {
      "cell_type": "markdown",
      "metadata": {
        "id": "whRviTAU1yCF"
      },
      "source": [
        "Vamos a redimensionar las imágenes en tensores (N imágenes, 28 filas, 28 columnas, 1 canal).\n",
        "De igual manera, debemos normalizar el rango de valores de los pixeles de [0, 255] a [0, 1].\n",
        "\n"
      ]
    },
    {
      "cell_type": "code",
      "metadata": {
        "id": "DTqv-nDbuQEH",
        "colab": {
          "base_uri": "https://localhost:8080/"
        },
        "outputId": "eaaad1c5-38f0-4aeb-9816-c0cce76de77e"
      },
      "source": [
        "X_train = X_train.reshape(X_train.shape[0], img_rows, img_cols, 1)\n",
        "X_test = X_test.reshape(X_test.shape[0], img_rows, img_cols, 1)\n",
        "X_train = X_train.astype(\"float32\")\n",
        "X_test = X_test.astype(\"float32\")\n",
        "X_train /= 255\n",
        "X_test /= 255\n",
        "print('Dimension de X_train: ', X_train.shape)\n",
        "print(X_train.shape[0], \"muestras de entrenamiento\")\n",
        "print(X_test.shape[0], \"muestras de test\")"
      ],
      "execution_count": null,
      "outputs": [
        {
          "output_type": "stream",
          "text": [
            "Dimension de X_train:  (60000, 28, 28, 1)\n",
            "60000 muestras de entrenamiento\n",
            "10000 muestras de test\n"
          ],
          "name": "stdout"
        }
      ]
    },
    {
      "cell_type": "markdown",
      "metadata": {
        "id": "i1DcYNvH20Rz"
      },
      "source": [
        "Ahora convertimos las categorías de los dígitos de 0 a 9 en un one-hot encoded binary vector. Hacemos esto porque será lo que le pasemos a la red neuronal como las categorías de las muestras tanto de entrenamiento como de test."
      ]
    },
    {
      "cell_type": "code",
      "metadata": {
        "id": "ReWmNSoUufZm",
        "colab": {
          "base_uri": "https://localhost:8080/"
        },
        "outputId": "eb898e99-79f2-4f48-81e7-f234065ffec4"
      },
      "source": [
        "nclases = 10\n",
        "Y_train = utils.to_categorical(y_train, nclases)\n",
        "Y_test = utils.to_categorical(y_test, nclases)\n",
        "print(\"One-hot encoding: {}\".format(Y_train[0, :]))"
      ],
      "execution_count": null,
      "outputs": [
        {
          "output_type": "stream",
          "text": [
            "One-hot encoding: [0. 0. 0. 0. 0. 1. 0. 0. 0. 0.]\n"
          ],
          "name": "stdout"
        }
      ]
    },
    {
      "cell_type": "markdown",
      "metadata": {
        "id": "4MzAw4wh3i9z"
      },
      "source": [
        "Veamos un poco el dataset MNIST."
      ]
    },
    {
      "cell_type": "code",
      "metadata": {
        "id": "T0sODKGnNd1A",
        "colab": {
          "base_uri": "https://localhost:8080/",
          "height": 647
        },
        "outputId": "48b87868-8d1c-4c47-aae5-1a6d7953f755"
      },
      "source": [
        "ids_imgs = np.random.randint(0,X_train.shape[0],16)\n",
        "plt.figure(figsize=(10,10))\n",
        "for i in range(len(ids_imgs)):\n",
        "\timg = X_train[ids_imgs[i],:,:]\n",
        "\tplt.subplot(4,4,i+1)\n",
        "\tplt.imshow(img[:,:,0], cmap='gray')\n",
        "\tplt.axis('off')\n",
        "\tplt.title(y_train[ids_imgs[i]])\n",
        "plt.suptitle('16 imágenes del set MNIST')\n",
        "plt.show()"
      ],
      "execution_count": null,
      "outputs": [
        {
          "output_type": "display_data",
          "data": {
            "image/png": "[encoded data removed]",
            "text/plain": [
              "<Figure size 720x720 with 16 Axes>"
            ]
          },
          "metadata": {
            "tags": [],
            "needs_background": "light"
          }
        }
      ]
    },
    {
      "cell_type": "markdown",
      "metadata": {
        "id": "S3ILrDqn3pTr"
      },
      "source": [
        "## Definición del modelo"
      ]
    },
    {
      "cell_type": "markdown",
      "metadata": {
        "id": "fZsk6ynA5msA"
      },
      "source": [
        "Podemos configurar las capas de convolución, a través del objeto Conv2D, el cual tiene la siguiente configuración: \n",
        "\n",
        "`Conv2D(number_filters, kernel_size, input_shape=(number_channels, img_col), padding, activation)`. "
      ]
    },
    {
      "cell_type": "code",
      "metadata": {
        "id": "RpwGgk1fNoZ7",
        "colab": {
          "base_uri": "https://localhost:8080/"
        },
        "outputId": "55e0aa60-3f7b-44b9-eb44-e9e4c551cf08"
      },
      "source": [
        "np.random.seed(1)\t\t\n",
        "\n",
        "modelo = tf.keras.Sequential()\n",
        "\n",
        "modelo.add(Conv2D(32, (3, 3), input_shape=[img_rows, img_cols, 1], padding='same', activation='relu'))\n",
        "modelo.add(MaxPooling2D(pool_size=(2, 2), strides=1))\n",
        "modelo.add(Conv2D(64, (3, 3), padding='same', activation='relu'))\n",
        "modelo.add(MaxPooling2D(pool_size=(2, 2)))\n",
        "modelo.add(Conv2D(128, (3, 3), activation='relu'))\n",
        "modelo.add(MaxPooling2D(pool_size=(2, 2)))\n",
        "modelo.add(Conv2D(256, (3, 3), activation='relu'))\n",
        "modelo.add(MaxPooling2D(pool_size=(2, 2)))\n",
        "\n",
        "\n",
        "modelo.add(Flatten())\n",
        "modelo.add(Dense(500, activation='relu'))\n",
        "modelo.add(Dense(500, activation='relu'))\n",
        "modelo.add(Dense(500, activation='relu'))\n",
        "modelo.add(Dense(10, activation='softmax'))\n",
        "print(modelo.summary())"
      ],
      "execution_count": null,
      "outputs": [
        {
          "output_type": "stream",
          "text": [
            "Model: \"sequential_1\"\n",
            "_________________________________________________________________\n",
            "Layer (type)                 Output Shape              Param #   \n",
            "=================================================================\n",
            "conv2d_4 (Conv2D)            (None, 28, 28, 32)        320       \n",
            "_________________________________________________________________\n",
            "max_pooling2d_3 (MaxPooling2 (None, 27, 27, 32)        0         \n",
            "_________________________________________________________________\n",
            "conv2d_5 (Conv2D)            (None, 27, 27, 64)        18496     \n",
            "_________________________________________________________________\n",
            "max_pooling2d_4 (MaxPooling2 (None, 13, 13, 64)        0         \n",
            "_________________________________________________________________\n",
            "conv2d_6 (Conv2D)            (None, 11, 11, 128)       73856     \n",
            "_________________________________________________________________\n",
            "max_pooling2d_5 (MaxPooling2 (None, 5, 5, 128)         0         \n",
            "_________________________________________________________________\n",
            "conv2d_7 (Conv2D)            (None, 3, 3, 256)         295168    \n",
            "_________________________________________________________________\n",
            "max_pooling2d_6 (MaxPooling2 (None, 1, 1, 256)         0         \n",
            "_________________________________________________________________\n",
            "flatten (Flatten)            (None, 256)               0         \n",
            "_________________________________________________________________\n",
            "dense (Dense)                (None, 500)               128500    \n",
            "_________________________________________________________________\n",
            "dense_1 (Dense)              (None, 500)               250500    \n",
            "_________________________________________________________________\n",
            "dense_2 (Dense)              (None, 500)               250500    \n",
            "_________________________________________________________________\n",
            "dense_3 (Dense)              (None, 10)                5010      \n",
            "=================================================================\n",
            "Total params: 1,022,350\n",
            "Trainable params: 1,022,350\n",
            "Non-trainable params: 0\n",
            "_________________________________________________________________\n",
            "None\n"
          ],
          "name": "stdout"
        }
      ]
    },
    {
      "cell_type": "code",
      "metadata": {
        "id": "hZdnoJyfN4in"
      },
      "source": [
        "\n",
        "modelo.compile(loss='categorical_crossentropy', optimizer='adam', metrics=['accuracy'])"
      ],
      "execution_count": null,
      "outputs": []
    },
    {
      "cell_type": "markdown",
      "metadata": {
        "id": "OGqu76Cp-1Xq"
      },
      "source": [
        "## Entrenamos al modelo"
      ]
    },
    {
      "cell_type": "markdown",
      "metadata": {
        "id": "eUYvCkn4-41-"
      },
      "source": [
        "Hiperparàmetros que empezamos a configurar:\n",
        "\n",
        "*  Epocas (num_epochs): Número de veces que el modelo pasa sobre todas las imágenes del set de entrenamiento.\n",
        "*  Batch Size (batch_size): Número de imágenes procesadas a la vez."
      ]
    },
    {
      "cell_type": "code",
      "metadata": {
        "id": "kyHm8QwKN-MK",
        "colab": {
          "base_uri": "https://localhost:8080/"
        },
        "outputId": "86b4235d-0ca7-439d-b5be-e6a5537d07e8"
      },
      "source": [
        "num_epochs = 10 \n",
        "batch_size = 128 \n",
        "modelo.fit(X_train, Y_train, batch_size=batch_size, epochs=num_epochs, \n",
        "          verbose=1, validation_data=(X_test, Y_test))"
      ],
      "execution_count": null,
      "outputs": [
        {
          "output_type": "stream",
          "text": [
            "Epoch 1/10\n",
            "469/469 [==============================] - 34s 9ms/step - loss: 0.2289 - accuracy: 0.9262 - val_loss: 0.0745 - val_accuracy: 0.9764\n",
            "Epoch 2/10\n",
            "469/469 [==============================] - 4s 8ms/step - loss: 0.0627 - accuracy: 0.9810 - val_loss: 0.0728 - val_accuracy: 0.9791\n",
            "Epoch 3/10\n",
            "469/469 [==============================] - 4s 8ms/step - loss: 0.0453 - accuracy: 0.9864 - val_loss: 0.0480 - val_accuracy: 0.9868\n",
            "Epoch 4/10\n",
            "469/469 [==============================] - 4s 8ms/step - loss: 0.0335 - accuracy: 0.9900 - val_loss: 0.0335 - val_accuracy: 0.9908\n",
            "Epoch 5/10\n",
            "469/469 [==============================] - 4s 8ms/step - loss: 0.0278 - accuracy: 0.9918 - val_loss: 0.0419 - val_accuracy: 0.9895\n",
            "Epoch 6/10\n",
            "469/469 [==============================] - 4s 8ms/step - loss: 0.0267 - accuracy: 0.9916 - val_loss: 0.0446 - val_accuracy: 0.9883\n",
            "Epoch 7/10\n",
            "469/469 [==============================] - 4s 8ms/step - loss: 0.0211 - accuracy: 0.9933 - val_loss: 0.0422 - val_accuracy: 0.9891\n",
            "Epoch 8/10\n",
            "469/469 [==============================] - 4s 8ms/step - loss: 0.0205 - accuracy: 0.9940 - val_loss: 0.0459 - val_accuracy: 0.9889\n",
            "Epoch 9/10\n",
            "469/469 [==============================] - 4s 9ms/step - loss: 0.0185 - accuracy: 0.9945 - val_loss: 0.0414 - val_accuracy: 0.9906\n",
            "Epoch 10/10\n",
            "469/469 [==============================] - 4s 8ms/step - loss: 0.0157 - accuracy: 0.9957 - val_loss: 0.0411 - val_accuracy: 0.9912\n"
          ],
          "name": "stdout"
        },
        {
          "output_type": "execute_result",
          "data": {
            "text/plain": [
              "<tensorflow.python.keras.callbacks.History at 0x7f2b301154d0>"
            ]
          },
          "metadata": {
            "tags": []
          },
          "execution_count": 11
        }
      ]
    },
    {
      "cell_type": "markdown",
      "metadata": {
        "id": "ylbEPAWI_8ma"
      },
      "source": [
        "## Precisión del modelo con el dataset de test"
      ]
    },
    {
      "cell_type": "code",
      "metadata": {
        "id": "8Y_aimDq-BF6",
        "colab": {
          "base_uri": "https://localhost:8080/"
        },
        "outputId": "b1da4547-c002-40fc-8fd5-c0c74bb4c92a"
      },
      "source": [
        "puntaje = modelo.evaluate(X_test,Y_test,verbose=0)\n",
        "print('Precisión en el set de validación: {:.1f}%'.format(100*puntaje[1]))"
      ],
      "execution_count": null,
      "outputs": [
        {
          "output_type": "stream",
          "text": [
            "Precisión en el set de validación: 99.1%\n"
          ],
          "name": "stdout"
        }
      ]
    },
    {
      "cell_type": "code",
      "metadata": {
        "id": "oYTxqLoFOHxg",
        "colab": {
          "base_uri": "https://localhost:8080/",
          "height": 700
        },
        "outputId": "3a1c9f89-ae81-49a8-84cd-f1d294a077c6"
      },
      "source": [
        "res = modelo.predict_classes(X_test[:9])\n",
        "plt.figure(figsize=(10,10))\n",
        "\n",
        "ids_imgs = np.random.randint(0,X_test.shape[0],9)\n",
        "for i in range(len(ids_imgs)):\n",
        "\tidx = ids_imgs[i]\n",
        "\timg = X_test[idx,:].reshape(28,28)\n",
        "\tcat_original = np.argmax(Y_test[idx,:])\n",
        "\tcat_prediccion = y_test[idx]\n",
        "\n",
        "\tplt.subplot(3,3,i+1)\n",
        "\tplt.imshow(img, cmap='gray')\n",
        "\tplt.axis('off')\n",
        "\tplt.title('\"{}\" clasificado como \"{}\"'.format(cat_original,cat_prediccion))\n",
        "plt.suptitle('Ejemplos de clasificación en el set de validación')\n",
        "plt.show()"
      ],
      "execution_count": null,
      "outputs": [
        {
          "output_type": "stream",
          "text": [
            "/usr/local/lib/python3.7/dist-packages/tensorflow/python/keras/engine/sequential.py:455: UserWarning: `model.predict_classes()` is deprecated and will be removed after 2021-01-01. Please use instead:* `np.argmax(model.predict(x), axis=-1)`,   if your model does multi-class classification   (e.g. if it uses a `softmax` last-layer activation).* `(model.predict(x) > 0.5).astype(\"int32\")`,   if your model does binary classification   (e.g. if it uses a `sigmoid` last-layer activation).\n",
            "  warnings.warn('`model.predict_classes()` is deprecated and '\n"
          ],
          "name": "stderr"
        },
        {
          "output_type": "display_data",
          "data": {
            "image/png": "[encoded data removed]",
            "text/plain": [
              "<Figure size 720x720 with 9 Axes>"
            ]
          },
          "metadata": {
            "tags": [],
            "needs_background": "light"
          }
        }
      ]
    }
  ]
}