{
  "nbformat": 4,
  "nbformat_minor": 0,
  "metadata": {
    "colab": {
      "name": "Modelo de Hodgkin-Huxley.ipynb",
      "private_outputs": true,
      "provenance": [],
      "collapsed_sections": [],
      "toc_visible": true,
      "include_colab_link": true
    },
    "kernelspec": {
      "name": "python3",
      "display_name": "Python 3"
    }
  },
  "cells": [
    {
      "cell_type": "markdown",
      "metadata": {
        "id": "view-in-github",
        "colab_type": "text"
      },
      "source": [
        "<a href=\"https://colab.research.google.com/github/JoseFerrer/Deep_Learning_fot_Teaching/blob/main/Modelo_de_Hodgkin_Huxley.ipynb\" target=\"_parent\"><img src=\"https://colab.research.google.com/assets/colab-badge.svg\" alt=\"Open In Colab\"/></a>"
      ]
    },
    {
      "cell_type": "markdown",
      "metadata": {
        "id": "aJEQhkqFg5jC"
      },
      "source": [
        "# **Modelo de Hodgkin–Huxley**"
      ]
    },
    {
      "cell_type": "code",
      "metadata": {
        "id": "g_HbdI5kg5jE"
      },
      "source": [
        "!pip -q install myokit\n",
        "!apt-get -qq install libsundials-dev > install.log"
      ],
      "execution_count": null,
      "outputs": []
    },
    {
      "cell_type": "markdown",
      "metadata": {
        "id": "pa2SjJ0wp2tw"
      },
      "source": [
        "En el paper [A quantitative description of membrane current and its application to conduction and excitation in nerve](https://www.ncbi.nlm.nih.gov/pmc/articles/PMC1392413/) de A. L. Hodgkin and A. F. Huxley (1952), se presenta un modelo que explica los mecanismos iónicos subyacenes al inicio y propagación de los potenciales de acción en axón del calamar gigante. Este trabajo recibió el premio nobel de fisiología en 1963.\n",
        "\n",
        "### **Axón del calamar gigante**\n",
        "\n",
        "![](https://upload.wikimedia.org/wikipedia/commons/1/19/Giant_Axon_of_Squid_%2814356033761%29.jpg)\n",
        "\n",
        "### **Modelo de Hodgkin-Huxley**\n",
        "\n",
        "![](https://www.frontiersin.org/files/MyHome%20Article%20Library/306922/306922_Thumb_400.jpg)"
      ]
    },
    {
      "cell_type": "markdown",
      "metadata": {
        "id": "I_l5RY4pg5jQ"
      },
      "source": [
        "### **Definir las constantes y time steps**"
      ]
    },
    {
      "cell_type": "code",
      "metadata": {
        "id": "clMN88Lsg5jS"
      },
      "source": [
        "import myokit\n",
        "import matplotlib.pyplot as plt\n",
        "import numpy as np"
      ],
      "execution_count": null,
      "outputs": []
    },
    {
      "cell_type": "markdown",
      "metadata": {
        "id": "br9OHPZSD57n"
      },
      "source": [
        "**Descarguemos el modelo**"
      ]
    },
    {
      "cell_type": "code",
      "metadata": {
        "id": "KD7s6EzA8ma7"
      },
      "source": [
        "!wget http://myokit.org/static/download/examples/hh-1952d-modern.mmt"
      ],
      "execution_count": null,
      "outputs": []
    },
    {
      "cell_type": "markdown",
      "metadata": {
        "id": "0sAQEJAhD_aP"
      },
      "source": [
        "**Veamos la especificación del modelo**"
      ]
    },
    {
      "cell_type": "code",
      "metadata": {
        "id": "FCHsq6Vc9JtY"
      },
      "source": [
        "!cat hh-1952d-modern.mmt"
      ],
      "execution_count": null,
      "outputs": []
    },
    {
      "cell_type": "markdown",
      "metadata": {
        "id": "VNxT7IT_EDZi"
      },
      "source": [
        "**Carguemos el modelo**"
      ]
    },
    {
      "cell_type": "code",
      "metadata": {
        "id": "LtVZIM6e9PWJ"
      },
      "source": [
        "modelo, protocolo, _ = myokit.load('hh-1952d-modern.mmt')"
      ],
      "execution_count": null,
      "outputs": []
    },
    {
      "cell_type": "markdown",
      "metadata": {
        "id": "X1no9yb5g5jX"
      },
      "source": [
        "##**Las 4 ecuaciones del modelo de  Hodgkin-Huxley**\n",
        "\n",
        "\n",
        "* $C_M\\displaystyle \\frac{dV}{dt}=-g_{Na}(V-V_{Na})-g_k(V-V_K)-g_l(V-V_l)+I$ ($V$: Potential de membrana)  \n",
        "* $\\displaystyle \\frac{dh}{dt}=\\alpha_h{(V)}(1-h)-\\beta_h(V)h$ ($h$:  Inactivación de Sodio)  \n",
        "* $\\displaystyle \\frac{dm}{dt}=\\alpha_m{(V)}(1-m)-\\beta_m(V)m$ ($m$: Activación de Sodio)  \n",
        "* $\\displaystyle \\frac{dn}{dt}=\\alpha_n{(V)}(1-n)-\\beta_n(V)n$ ($n$:Activación de Potasio)  "
      ]
    },
    {
      "cell_type": "markdown",
      "metadata": {
        "id": "Y_dYzrkQg5jo"
      },
      "source": [
        "**Parámetros a Configurar:** \n",
        "\n",
        "*   *Milisegundos:* Rango de tiempo de visualización del Acción Potencial\n",
        "*   *Comienzo:* Offset del primer potencial de acción\n",
        "*   *Periodo:* Periodo de recurrencia del potencial acción\n",
        "\n",
        "Conductancias:\n",
        "*   *g_k:* Coeficiente de conducción de Potasio, que nos da un valor de permeabilidad de salida de Potasio\n",
        "*   *g_Na:* Coeficiente de conducción de Sodio, que nos da un valor de permeabilidad de entrada de Sodio\n",
        "*   *g_l:* Coeficiente de conducción de leak o fuga, que nos da un valor de permeabilidad  de Cloro\n",
        "\n"
      ]
    },
    {
      "cell_type": "markdown",
      "metadata": {
        "id": "69oJVP1uF_a-"
      },
      "source": [
        "**Ejecutemos la simulación**"
      ]
    },
    {
      "cell_type": "code",
      "metadata": {
        "id": "YgSUZRgfg5jo",
        "cellView": "form"
      },
      "source": [
        "#@title **Simulación** { run: \"auto\" }\n",
        "milisegundos = 65 #@param {type:\"slider\", min:0, max:300, step:1}\n",
        "\n",
        "#@markdown  **g_K Valor por defecto 36.0 [mS/cm^2]**\n",
        "g_k = 36 #@param {type:\"slider\", min:0.0, max:50.0, step:1.0}\n",
        "#@markdown  **g_Na Valor por defecto 120.0 [mS/cm^2]**\n",
        "g_Na = 120  #@param {type:\"slider\", min:50, max:550, step:10}\n",
        "#@markdown  **g_l Valor por defecto 0.3**\n",
        "g_l = 0.64 #@param {type:\"slider\", min:0.0, max:0.9, step:0.01}\n",
        "#@markdown  **Inicio del Acción Potencial: Valor por defecto 5.0**\n",
        "comienzo = 5 #@param {type:\"slider\", min:0, max:200, step:1}\n",
        "#@markdown  **Periodo: Valor por defecto 30.0**\n",
        "periodo = 30 #@param {type:\"slider\", min:10, max:100, step:1}\n",
        "\n",
        "\n",
        "modelo.get('potassium.g_max').set_rhs(g_k)\n",
        "modelo.get('sodium.g_max').set_rhs(g_Na)\n",
        "modelo.get('leak.g_max').set_rhs(g_l)\n",
        "\n",
        "protocolo.pop()\n",
        "protocolo.schedule(1.0, comienzo, 2.0, periodo, 0)\n",
        "\n",
        "\n",
        "simulacion = myokit.Simulation(modelo, protocolo)\n",
        "\n",
        "d = simulacion.run(milisegundos)\n",
        "plt.figure(figsize=(20,10))\n",
        "plt.title('Potencial de Membrana')\n",
        "plt.xlabel(\"Tiempo (ms)\")\n",
        "plt.ylabel(\"Voltaje de Membrana (mV)\")\n",
        "plt.plot(d['engine.time'], d['membrane.V'])\n",
        "plt.grid()\n",
        "plt.show()"
      ],
      "execution_count": null,
      "outputs": []
    },
    {
      "cell_type": "markdown",
      "metadata": {
        "id": "fZtpWa67GBxM"
      },
      "source": [
        "### **Práctica:**"
      ]
    },
    {
      "cell_type": "markdown",
      "metadata": {
        "id": "3jgGJ2hrVtgc"
      },
      "source": [
        "Configurar los parámetros del potencial de acción neuronal, para mostrar lo siguiente:\n",
        "\n",
        "\n",
        "\n",
        "1.   ¿ Qué sucede si disminuimos la capacidad de entrada de Sodio ? (Figura y Desarrollo)\n",
        "2.   ¿ Qué sucede si disminuimos la capacidad de salida de Potasio ? (Figura y Desarrollo)\n",
        "\n",
        "\n"
      ]
    }
  ]
}