{
  "nbformat": 4,
  "nbformat_minor": 0,
  "metadata": {
    "colab": {
      "name": "NeuralNetwork.ipynb",
      "provenance": []
    },
    "kernelspec": {
      "name": "python3",
      "display_name": "Python 3"
    },
    "language_info": {
      "name": "python"
    },
    "accelerator": "GPU"
  },
  "cells": [
    {
      "cell_type": "markdown",
      "metadata": {
        "id": "U__v3FUcAOmA"
      },
      "source": [
        "# Implementación de una Red Neuronal Densa"
      ]
    },
    {
      "cell_type": "markdown",
      "metadata": {
        "id": "2I06n8YIAgJx"
      },
      "source": [
        "## Paqueterías que vamos a utilizar"
      ]
    },
    {
      "cell_type": "markdown",
      "metadata": {
        "id": "pEafetVyAnIC"
      },
      "source": [
        "<img src=\"https://techscript24.com/wp-content/uploads/2020/10/86498201-a8bd8680-bd39-11ea-9d08-66b610a8dc01.png\" width=\"50%\">\n",
        "\n",
        "<img src=\"https://encrypted-tbn0.gstatic.com/images?q=tbn:ANd9GcS5ufeQEq94DZpcunTim55puXY6dNookrlRwmiOd1PQFraMl3sjijiYwIDw1j1hfzo2h6c&usqp=CAU\" width=\"50%\">\n",
        "\n",
        "<img src=\"https://encrypted-tbn0.gstatic.com/images?q=tbn:ANd9GcQwDfwjwyxZsRFpjoPFjlsNnKk3J58Gh3bjAap7Td81dyrYSt1XbtZI7lsgartOMjBqM60&usqp=CAU\" width=\"50%\">\n"
      ]
    },
    {
      "cell_type": "code",
      "metadata": {
        "id": "9CmKUBSaGXgM"
      },
      "source": [
        "%tensorflow_version 2.x\n",
        "import tensorflow as tf\n",
        "from tensorflow.keras.datasets import mnist\n",
        "from tensorflow.keras.models import Sequential\n",
        "from tensorflow.keras.layers import Dense\n",
        "from tensorflow.keras.optimizers import SGD\n",
        "from tensorflow.keras import utils\n",
        "\n",
        "import matplotlib.pyplot as plt\n",
        "import numpy as np"
      ],
      "execution_count": null,
      "outputs": []
    },
    {
      "cell_type": "markdown",
      "metadata": {
        "id": "5nR_VL43As7Y"
      },
      "source": [
        "## Importamos los datos"
      ]
    },
    {
      "cell_type": "markdown",
      "metadata": {
        "id": "Z1Ro-eBWAtU-"
      },
      "source": [
        "Usaremos un conocido dataset de imágenes de cifras escritas a mano llamado [MNIST](http://yann.lecun.com/exdb/mnist/), el cual es considerado el \"Hello World\" del deep learning.\n",
        "\n",
        "<img src=\"https://upload.wikimedia.org/wikipedia/commons/thumb/2/27/MnistExamples.png/320px-MnistExamples.png\" width=\"90%\">\n",
        "\n"
      ]
    },
    {
      "cell_type": "markdown",
      "metadata": {
        "id": "VNeOGa4WA0Qj"
      },
      "source": [
        "MNIST consta de 60000 imágenes de 28x28 pixeles en escala de grises [0..255]. Para cargar estas imágenes, tenemos una función dentro de Keras llamada `mnist.load_data()`. El cual nos separa la data entre los datos de entrenamiento y los datos de test."
      ]
    },
    {
      "cell_type": "code",
      "metadata": {
        "colab": {
          "base_uri": "https://localhost:8080/"
        },
        "id": "wY2G_vyRGlUG",
        "outputId": "5642d488-faa8-47ab-f14d-56fa4d14db8a"
      },
      "source": [
        "(x_train, y_train), (x_test, y_test) = mnist.load_data()"
      ],
      "execution_count": null,
      "outputs": [
        {
          "output_type": "stream",
          "text": [
            "Downloading data from https://storage.googleapis.com/tensorflow/tf-keras-datasets/mnist.npz\n",
            "11493376/11490434 [==============================] - 0s 0us/step\n"
          ],
          "name": "stdout"
        }
      ]
    },
    {
      "cell_type": "markdown",
      "metadata": {
        "id": "TN95n3vdBS3_"
      },
      "source": [
        "Veamos un poco el dataset MNIST."
      ]
    },
    {
      "cell_type": "code",
      "metadata": {
        "colab": {
          "base_uri": "https://localhost:8080/",
          "height": 647
        },
        "id": "rU2E8a9GG8NH",
        "outputId": "241650cc-ecdd-4baf-96aa-755ea23aeb5e"
      },
      "source": [
        "ids_imgs = np.random.randint(0,x_train.shape[0],16)\n",
        "plt.figure(figsize=(10,10))\n",
        "for i in range(len(ids_imgs)):\n",
        "\timg = x_train[ids_imgs[i],:,:]\n",
        "\tplt.subplot(4,4,i+1)\n",
        "\tplt.imshow(img, cmap='gray')\n",
        "\tplt.axis('off')\n",
        "\tplt.title(y_train[ids_imgs[i]])\n",
        "plt.suptitle('16 imágenes del set MNIST')\n",
        "plt.show()"
      ],
      "execution_count": null,
      "outputs": [
        {
          "output_type": "display_data",
          "data": {
            "image/png": "[encoded data removed]",
            "text/plain": [
              "<Figure size 720x720 with 16 Axes>"
            ]
          },
          "metadata": {
            "tags": [],
            "needs_background": "light"
          }
        }
      ]
    },
    {
      "cell_type": "markdown",
      "metadata": {
        "id": "bW58lymCA-Ck"
      },
      "source": [
        "## Preparamos los datos"
      ]
    },
    {
      "cell_type": "markdown",
      "metadata": {
        "id": "bNfx2uDDBDJP"
      },
      "source": [
        "Vamos a redimensionar las imágenes en tensores de una sola dimensión.\n",
        "De igual manera, debemos normalizar el rango de valores de los pixeles de [0, 255] a [0, 1]."
      ]
    },
    {
      "cell_type": "code",
      "metadata": {
        "id": "_txuvHzLG9Jx"
      },
      "source": [
        "X_train = np.reshape( x_train, (x_train.shape[0],x_train.shape[1]*x_train.shape[2]) )\n",
        "X_test = np.reshape( x_test, (x_test.shape[0],x_test.shape[1]*x_test.shape[2]) )"
      ],
      "execution_count": null,
      "outputs": []
    },
    {
      "cell_type": "code",
      "metadata": {
        "id": "iQjzXT80HCLe"
      },
      "source": [
        "X_train = X_train/255.0\n",
        "X_test = X_test/255.0"
      ],
      "execution_count": null,
      "outputs": []
    },
    {
      "cell_type": "markdown",
      "metadata": {
        "id": "VttKatVZBNmU"
      },
      "source": [
        "Ahora convertimos las categorías de los dígitos de 0 a 9 en un one-hot encoded binary vector. Hacemos esto porque será lo que le pasemos a la red neuronal como las categorías de las muestras tanto de entrenamiento como de test."
      ]
    },
    {
      "cell_type": "code",
      "metadata": {
        "id": "5i2QkoEBHC24"
      },
      "source": [
        "nclasses = 10\n",
        "Y_train = utils.to_categorical(y_train,nclasses)\n",
        "Y_test = utils.to_categorical(y_test,nclasses)"
      ],
      "execution_count": null,
      "outputs": []
    },
    {
      "cell_type": "code",
      "metadata": {
        "colab": {
          "base_uri": "https://localhost:8080/"
        },
        "id": "MRk582Uzihf7",
        "outputId": "80434ec3-95ff-496e-e682-cca203439c06"
      },
      "source": [
        "Y_test"
      ],
      "execution_count": null,
      "outputs": [
        {
          "output_type": "execute_result",
          "data": {
            "text/plain": [
              "array([[0., 0., 0., ..., 1., 0., 0.],\n",
              "       [0., 0., 1., ..., 0., 0., 0.],\n",
              "       [0., 1., 0., ..., 0., 0., 0.],\n",
              "       ...,\n",
              "       [0., 0., 0., ..., 0., 0., 0.],\n",
              "       [0., 0., 0., ..., 0., 0., 0.],\n",
              "       [0., 0., 0., ..., 0., 0., 0.]], dtype=float32)"
            ]
          },
          "metadata": {
            "tags": []
          },
          "execution_count": 7
        }
      ]
    },
    {
      "cell_type": "markdown",
      "metadata": {
        "id": "lfySygkoBZwD"
      },
      "source": [
        "## Definición del modelo"
      ]
    },
    {
      "cell_type": "code",
      "metadata": {
        "colab": {
          "base_uri": "https://localhost:8080/"
        },
        "id": "KIIv6OaJHLZ8",
        "outputId": "e85cbf41-5bb4-483c-a57f-8e3a0713bb33"
      },
      "source": [
        "np.random.seed(1)\t\t\n",
        "input_dim = X_train.shape[1]\n",
        "output_dim = Y_train.shape[1]\n",
        "\n",
        "modelo = Sequential()\n",
        "modelo.add( Dense(15, input_dim=input_dim, activation='relu'))\n",
        "modelo.add( Dense(output_dim, activation='softmax'))\n",
        "print(modelo.summary())"
      ],
      "execution_count": null,
      "outputs": [
        {
          "output_type": "stream",
          "text": [
            "Model: \"sequential\"\n",
            "_________________________________________________________________\n",
            "Layer (type)                 Output Shape              Param #   \n",
            "=================================================================\n",
            "dense (Dense)                (None, 15)                11775     \n",
            "_________________________________________________________________\n",
            "dense_1 (Dense)              (None, 10)                160       \n",
            "=================================================================\n",
            "Total params: 11,935\n",
            "Trainable params: 11,935\n",
            "Non-trainable params: 0\n",
            "_________________________________________________________________\n",
            "None\n"
          ],
          "name": "stdout"
        }
      ]
    },
    {
      "cell_type": "code",
      "metadata": {
        "id": "Xz3YNeJIHOg7"
      },
      "source": [
        "sgd = SGD(lr=0.2)\n",
        "modelo.compile(loss='categorical_crossentropy', optimizer=sgd, metrics=['accuracy'])"
      ],
      "execution_count": null,
      "outputs": []
    },
    {
      "cell_type": "markdown",
      "metadata": {
        "id": "nbe-8yaCBcQB"
      },
      "source": [
        "# Entrenamos al modelo"
      ]
    },
    {
      "cell_type": "markdown",
      "metadata": {
        "id": "po9Z3CEkBsd_"
      },
      "source": [
        "Hiperparàmetros que empezamos a configurar:\n",
        "\n",
        "*  Epocas (num_epochs): Número de veces que el modelo pasa sobre todas las imágenes del set de entrenamiento.\n",
        "*  Batch Size (batch_size): Número de imágenes procesadas a la vez."
      ]
    },
    {
      "cell_type": "code",
      "metadata": {
        "colab": {
          "base_uri": "https://localhost:8080/"
        },
        "id": "pY_yiSMyHPI0",
        "outputId": "89a16f6e-c39d-4472-f733-a20dadd1208e"
      },
      "source": [
        "num_epochs = 50\n",
        "batch_size = 1024\n",
        "historia = modelo.fit(X_train, Y_train, epochs=num_epochs, batch_size=batch_size, verbose=2)"
      ],
      "execution_count": null,
      "outputs": [
        {
          "output_type": "stream",
          "text": [
            "Epoch 1/50\n",
            "59/59 - 3s - loss: 0.9650 - accuracy: 0.7423\n",
            "Epoch 2/50\n",
            "59/59 - 0s - loss: 0.4409 - accuracy: 0.8765\n",
            "Epoch 3/50\n",
            "59/59 - 0s - loss: 0.3728 - accuracy: 0.8935\n",
            "Epoch 4/50\n",
            "59/59 - 0s - loss: 0.3407 - accuracy: 0.9032\n",
            "Epoch 5/50\n",
            "59/59 - 0s - loss: 0.3206 - accuracy: 0.9086\n",
            "Epoch 6/50\n",
            "59/59 - 0s - loss: 0.3066 - accuracy: 0.9123\n",
            "Epoch 7/50\n",
            "59/59 - 0s - loss: 0.2951 - accuracy: 0.9156\n",
            "Epoch 8/50\n",
            "59/59 - 0s - loss: 0.2860 - accuracy: 0.9178\n",
            "Epoch 9/50\n",
            "59/59 - 0s - loss: 0.2783 - accuracy: 0.9199\n",
            "Epoch 10/50\n",
            "59/59 - 0s - loss: 0.2710 - accuracy: 0.9218\n",
            "Epoch 11/50\n",
            "59/59 - 0s - loss: 0.2645 - accuracy: 0.9244\n",
            "Epoch 12/50\n",
            "59/59 - 0s - loss: 0.2584 - accuracy: 0.9260\n",
            "Epoch 13/50\n",
            "59/59 - 0s - loss: 0.2531 - accuracy: 0.9275\n",
            "Epoch 14/50\n",
            "59/59 - 0s - loss: 0.2478 - accuracy: 0.9292\n",
            "Epoch 15/50\n",
            "59/59 - 0s - loss: 0.2428 - accuracy: 0.9303\n",
            "Epoch 16/50\n",
            "59/59 - 0s - loss: 0.2378 - accuracy: 0.9311\n",
            "Epoch 17/50\n",
            "59/59 - 0s - loss: 0.2329 - accuracy: 0.9330\n",
            "Epoch 18/50\n",
            "59/59 - 0s - loss: 0.2291 - accuracy: 0.9346\n",
            "Epoch 19/50\n",
            "59/59 - 0s - loss: 0.2247 - accuracy: 0.9359\n",
            "Epoch 20/50\n",
            "59/59 - 0s - loss: 0.2202 - accuracy: 0.9371\n",
            "Epoch 21/50\n",
            "59/59 - 0s - loss: 0.2168 - accuracy: 0.9381\n",
            "Epoch 22/50\n",
            "59/59 - 0s - loss: 0.2130 - accuracy: 0.9389\n",
            "Epoch 23/50\n",
            "59/59 - 0s - loss: 0.2097 - accuracy: 0.9398\n",
            "Epoch 24/50\n",
            "59/59 - 0s - loss: 0.2069 - accuracy: 0.9405\n",
            "Epoch 25/50\n",
            "59/59 - 0s - loss: 0.2035 - accuracy: 0.9416\n",
            "Epoch 26/50\n",
            "59/59 - 0s - loss: 0.2005 - accuracy: 0.9422\n",
            "Epoch 27/50\n",
            "59/59 - 0s - loss: 0.1975 - accuracy: 0.9431\n",
            "Epoch 28/50\n",
            "59/59 - 0s - loss: 0.1948 - accuracy: 0.9441\n",
            "Epoch 29/50\n",
            "59/59 - 0s - loss: 0.1926 - accuracy: 0.9448\n",
            "Epoch 30/50\n",
            "59/59 - 0s - loss: 0.1901 - accuracy: 0.9459\n",
            "Epoch 31/50\n",
            "59/59 - 0s - loss: 0.1881 - accuracy: 0.9459\n",
            "Epoch 32/50\n",
            "59/59 - 0s - loss: 0.1858 - accuracy: 0.9466\n",
            "Epoch 33/50\n",
            "59/59 - 0s - loss: 0.1839 - accuracy: 0.9470\n",
            "Epoch 34/50\n",
            "59/59 - 0s - loss: 0.1818 - accuracy: 0.9474\n",
            "Epoch 35/50\n",
            "59/59 - 0s - loss: 0.1798 - accuracy: 0.9482\n",
            "Epoch 36/50\n",
            "59/59 - 0s - loss: 0.1783 - accuracy: 0.9484\n",
            "Epoch 37/50\n",
            "59/59 - 0s - loss: 0.1762 - accuracy: 0.9489\n",
            "Epoch 38/50\n",
            "59/59 - 0s - loss: 0.1745 - accuracy: 0.9497\n",
            "Epoch 39/50\n",
            "59/59 - 0s - loss: 0.1732 - accuracy: 0.9496\n",
            "Epoch 40/50\n",
            "59/59 - 0s - loss: 0.1714 - accuracy: 0.9503\n",
            "Epoch 41/50\n",
            "59/59 - 0s - loss: 0.1705 - accuracy: 0.9507\n",
            "Epoch 42/50\n",
            "59/59 - 0s - loss: 0.1685 - accuracy: 0.9517\n",
            "Epoch 43/50\n",
            "59/59 - 0s - loss: 0.1674 - accuracy: 0.9514\n",
            "Epoch 44/50\n",
            "59/59 - 0s - loss: 0.1657 - accuracy: 0.9520\n",
            "Epoch 45/50\n",
            "59/59 - 0s - loss: 0.1643 - accuracy: 0.9524\n",
            "Epoch 46/50\n",
            "59/59 - 0s - loss: 0.1634 - accuracy: 0.9529\n",
            "Epoch 47/50\n",
            "59/59 - 0s - loss: 0.1621 - accuracy: 0.9531\n",
            "Epoch 48/50\n",
            "59/59 - 0s - loss: 0.1611 - accuracy: 0.9535\n",
            "Epoch 49/50\n",
            "59/59 - 0s - loss: 0.1600 - accuracy: 0.9534\n",
            "Epoch 50/50\n",
            "59/59 - 0s - loss: 0.1586 - accuracy: 0.9545\n"
          ],
          "name": "stdout"
        }
      ]
    },
    {
      "cell_type": "code",
      "metadata": {
        "colab": {
          "base_uri": "https://localhost:8080/",
          "height": 621
        },
        "id": "_HHO8RjjHWOY",
        "outputId": "653d59f5-c152-4da7-f694-36e023996b14"
      },
      "source": [
        "plt.figure(figsize=(10,10))\n",
        "plt.subplot(1,2,1)\n",
        "plt.plot(historia.history['loss'])\n",
        "plt.title('Pérdida vs. iteraciones')\n",
        "plt.ylabel('Pérdida')\n",
        "plt.xlabel('Iteración')\n",
        "\n",
        "plt.subplot(1,2,2)\n",
        "plt.plot(historia.history['accuracy'])\n",
        "plt.title('Precisión vs. iteraciones')\n",
        "plt.ylabel('Precisión')\n",
        "plt.xlabel('Iteración')\n",
        "\n",
        "plt.show()\n"
      ],
      "execution_count": null,
      "outputs": [
        {
          "output_type": "display_data",
          "data": {
            "image/png": "[encoded data removed]",
            "text/plain": [
              "<Figure size 720x720 with 2 Axes>"
            ]
          },
          "metadata": {
            "tags": [],
            "needs_background": "light"
          }
        }
      ]
    },
    {
      "cell_type": "markdown",
      "metadata": {
        "id": "88pAPBofCCgM"
      },
      "source": [
        "## Precisión del modelo con el dataset de test"
      ]
    },
    {
      "cell_type": "code",
      "metadata": {
        "id": "yY2Kx1KJHW9e",
        "colab": {
          "base_uri": "https://localhost:8080/"
        },
        "outputId": "d1ea39e8-60ff-4946-8559-19d599da5265"
      },
      "source": [
        "puntaje = modelo.evaluate(X_test,Y_test,verbose=0)\n",
        "print('Precisión en el set de validación: {:.1f}%'.format(100*puntaje[1]))"
      ],
      "execution_count": null,
      "outputs": [
        {
          "output_type": "stream",
          "text": [
            "Precisión en el set de validación: 94.8%\n"
          ],
          "name": "stdout"
        }
      ]
    },
    {
      "cell_type": "code",
      "metadata": {
        "id": "7Wmb08LEHZRf",
        "colab": {
          "base_uri": "https://localhost:8080/",
          "height": 700
        },
        "outputId": "260fc868-fefc-4827-be25-0ed722561619"
      },
      "source": [
        "Y_pred = modelo.predict_classes(X_test)\n",
        "\n",
        "plt.figure(figsize=(10,10))\n",
        "\n",
        "ids_imgs = np.random.randint(0,X_test.shape[0],9)\n",
        "for i in range(len(ids_imgs)):\n",
        "\tidx = ids_imgs[i]\n",
        "\timg = X_test[idx,:].reshape(28,28)\n",
        "\tcat_original = np.argmax(Y_test[idx,:])\n",
        "\tcat_prediccion = Y_pred[idx]\n",
        "\n",
        "\tplt.subplot(3,3,i+1)\n",
        "\tplt.imshow(img, cmap='gray')\n",
        "\tplt.axis('off')\n",
        "\tplt.title('\"{}\" clasificado como \"{}\"'.format(cat_original,cat_prediccion))\n",
        "plt.suptitle('Ejemplos de clasificación en el set de validación')\n",
        "plt.show()"
      ],
      "execution_count": null,
      "outputs": [
        {
          "output_type": "stream",
          "text": [
            "/usr/local/lib/python3.7/dist-packages/tensorflow/python/keras/engine/sequential.py:450: UserWarning: `model.predict_classes()` is deprecated and will be removed after 2021-01-01. Please use instead:* `np.argmax(model.predict(x), axis=-1)`,   if your model does multi-class classification   (e.g. if it uses a `softmax` last-layer activation).* `(model.predict(x) > 0.5).astype(\"int32\")`,   if your model does binary classification   (e.g. if it uses a `sigmoid` last-layer activation).\n",
            "  warnings.warn('`model.predict_classes()` is deprecated and '\n"
          ],
          "name": "stderr"
        },
        {
          "output_type": "display_data",
          "data": {
            "image/png": "[encoded data removed]",
            "text/plain": [
              "<Figure size 720x720 with 9 Axes>"
            ]
          },
          "metadata": {
            "tags": [],
            "needs_background": "light"
          }
        }
      ]
    }
  ]
}