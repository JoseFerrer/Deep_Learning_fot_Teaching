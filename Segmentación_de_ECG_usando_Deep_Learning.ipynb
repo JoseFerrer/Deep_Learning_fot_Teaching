{
  "nbformat": 4,
  "nbformat_minor": 0,
  "metadata": {
    "colab": {
      "name": "Segmentación de ECG usando Deep Learning.ipynb",
      "private_outputs": true,
      "provenance": [],
      "collapsed_sections": [],
      "include_colab_link": true
    },
    "kernelspec": {
      "name": "python3",
      "display_name": "Python 3"
    },
    "accelerator": "GPU"
  },
  "cells": [
    {
      "cell_type": "markdown",
      "metadata": {
        "id": "view-in-github",
        "colab_type": "text"
      },
      "source": [
        "<a href=\"https://colab.research.google.com/github/JoseFerrer/Deep_Learning_fot_Teaching/blob/main/Segmentaci%C3%B3n_de_ECG_usando_Deep_Learning.ipynb\" target=\"_parent\"><img src=\"https://colab.research.google.com/assets/colab-badge.svg\" alt=\"Open In Colab\"/></a>"
      ]
    },
    {
      "cell_type": "markdown",
      "metadata": {
        "id": "CGATUytQWQCB"
      },
      "source": [
        "#**Segmentación de ECG usando Deep Learning**\n",
        "\n",
        "\n",
        "Este `notebook`está basado en el paper [**Deep Learning for ECG Segmentation**](https://arxiv.org/abs/2001.04689)  de *Viktor Moskalenko, Nikolai Zolotykh, Grigory Osipov* aunque con varias diferencias significativas. Por ejemplo, en la arquitectura de la red y en el objetivo: en este notebook nos limitamos a la segmentación del complejo QRS.\n",
        "\n"
      ]
    },
    {
      "cell_type": "markdown",
      "metadata": {
        "id": "iPU05VLWV9zh"
      },
      "source": [
        "### **Instalar wfdb**"
      ]
    },
    {
      "cell_type": "code",
      "metadata": {
        "id": "G5ArZqU0Vd0J"
      },
      "source": [
        "!pip install wfdb --quiet"
      ],
      "execution_count": null,
      "outputs": []
    },
    {
      "cell_type": "code",
      "metadata": {
        "id": "yVR5jwsYVkKR"
      },
      "source": [
        "import math\n",
        "import wfdb\n",
        "import matplotlib.pyplot as plt\n",
        "import pandas as pd\n",
        "import numpy as np\n",
        "%matplotlib inline"
      ],
      "execution_count": null,
      "outputs": []
    },
    {
      "cell_type": "markdown",
      "metadata": {
        "id": "sknraQJuWGUV"
      },
      "source": [
        "### **Obtener dataset: Lobachevsky University Database (LUDB)**"
      ]
    },
    {
      "cell_type": "markdown",
      "metadata": {
        "id": "65CeQexNa5eL"
      },
      "source": [
        "Esta base de datos es descrita en el trabajo [LU electrocardiography database: a new open-access validation tool for delineation algorithms](https://arxiv.org/abs/1809.03393) de **Alena I. Kalyakulina, Igor I. Yusipov, Victor A. Moskalenko, Alexander V. Nikolskiy, Artem A. Kozlov, Nikolay Yu. Zolotykh, Mikhail V. Ivanchenko.** del año 2018.\n",
        "\n",
        " [Lobachevsky University Database (LUDB)](http://www.cyberheart.unn.ru/database) contiene 200 registros de 200 sujetos. La señal ECG fue capturada en el proyecto Cyberheart con el apoyo del Ministerio de Educación de la Federación Rusa en el **Institute of Information Technology, Mathematics and Mechanics, Nizhny Novgorod Lobachevsky State University**. La anotación manual de las señales electrocardiográficas  y diagnósticos fueron realizados por doctores de  organizaciones médicas de [Nizhny Novgorod](https://es.wikipedia.org/wiki/Nizhni_N%C3%B3vgorod).\n",
        "\n",
        "![](https://www.mmemed.com/wp-content/uploads/2017/02/schiller_AT-101_ecg_machine.jpg)\n",
        "\n",
        "Las grabaciones de ECG se realizaron con el cardiógrafo **Schiller Cardiovit AT-101** con los 12 leads estándares **(i, ii, iii, avr, avl, avf, v1, v2, v3, v4, v5, v6)** y una duración de 10 segundos. La frecuencua de muestreo fue de 500 muestras por segundo.  Los límites y picos del QRS, ondas P y T fueron determinados manualmente por cardiólogos. En total la base contiene: 58429 ondas (21966 QRS, 19666 T, 16797 P), si se consideran las derivadas de manera independiente.\n",
        "\n",
        "Los ECGs fueron colectados por voluntarios sin patologías y por pacientes con varias condiciones cardiacas, algunos de los pacientes tienen marcapasos. La edad de los sujetos va de 11 a 90 años, siendo la edad promedio de 52 años. La distribución de género: 85 mujeres y 115 hombres."
      ]
    },
    {
      "cell_type": "code",
      "metadata": {
        "id": "vFBJdvbMU3HP"
      },
      "source": [
        "!wget -q -O ludb.zip https://drive.google.com/uc?id=1jyxMHpVKJXV6z9yYCH2_dZzsup3bnNkX\n",
        "!unzip -qq ludb.zip"
      ],
      "execution_count": null,
      "outputs": []
    },
    {
      "cell_type": "markdown",
      "metadata": {
        "id": "dpOkwnrnWKC9"
      },
      "source": [
        "### **Lectura de los registros**\n",
        "\n",
        "Comenzamos seleccionando un registro, leeremos la señal junto con la metadata"
      ]
    },
    {
      "cell_type": "code",
      "metadata": {
        "id": "8_31kApsVyWf"
      },
      "source": [
        "id = 50\n",
        "record = wfdb.rdsamp('ludb/{}'.format(id))\n",
        "signal = record[0]\n",
        "metadata = record[1]"
      ],
      "execution_count": null,
      "outputs": []
    },
    {
      "cell_type": "markdown",
      "metadata": {
        "id": "ujuUmWzbv2r3"
      },
      "source": [
        "Podemos ver todos los archivos para ese registro en particular"
      ]
    },
    {
      "cell_type": "code",
      "metadata": {
        "id": "_nZ8hdQ1ZJuR"
      },
      "source": [
        "!ls ludb/$id\\.*"
      ],
      "execution_count": null,
      "outputs": []
    },
    {
      "cell_type": "markdown",
      "metadata": {
        "id": "R_g68E1uwDrS"
      },
      "source": [
        "Podemos ver en la metadata las derivadas disponibles"
      ]
    },
    {
      "cell_type": "code",
      "metadata": {
        "id": "rOICKPVKV4wn"
      },
      "source": [
        "derivadas = metadata['sig_name']\n",
        "derivadas"
      ],
      "execution_count": null,
      "outputs": []
    },
    {
      "cell_type": "markdown",
      "metadata": {
        "id": "ErnQ2qNww2ML"
      },
      "source": [
        "Podemos ver el resto de la metadata"
      ]
    },
    {
      "cell_type": "code",
      "metadata": {
        "id": "w0td8WiKw7Pd"
      },
      "source": [
        "pd.DataFrame(metadata.values(), index=metadata.keys())"
      ],
      "execution_count": null,
      "outputs": []
    },
    {
      "cell_type": "code",
      "metadata": {
        "id": "iZhJ7ZG3AcDx"
      },
      "source": [
        "print(\"La señal tiene {} muestras con una frecuencia de muestreo de {} Hz, por lo tanto, la duración es de {} seg.\".format(metadata['sig_len'], metadata['fs'], metadata['sig_len']/metadata['fs']))"
      ],
      "execution_count": null,
      "outputs": []
    },
    {
      "cell_type": "markdown",
      "metadata": {
        "id": "aiAJQZ85xjQC"
      },
      "source": [
        "... también podemos enforcarnos en el campo `comments` que incluye la información del paciente y diagnóstico."
      ]
    },
    {
      "cell_type": "code",
      "metadata": {
        "id": "qcHC7AFbxYJe"
      },
      "source": [
        "metadata['comments']"
      ],
      "execution_count": null,
      "outputs": []
    },
    {
      "cell_type": "markdown",
      "metadata": {
        "id": "1GUnjqo6xvM1"
      },
      "source": [
        "Asimismo, podemos mostrar las señales de todas las derivadas"
      ]
    },
    {
      "cell_type": "code",
      "metadata": {
        "id": "GwsMhyQkx0Yt"
      },
      "source": [
        "plt.figure(figsize=(20,10))\n",
        "plt.suptitle('Paciente {}'.format(id))\n",
        "for i, derivada in enumerate(derivadas):\n",
        "  ext = \"atr_{}\".format(derivada)\n",
        "  atr = wfdb.rdann('ludb/{}'.format(id), extension=ext) #lectura de los atributos\n",
        "  plt.subplot(12,1,i+1)\n",
        "  plt.plot(signal[:,i], color='k', label=derivada)\n",
        "  plt.legend(loc=1)"
      ],
      "execution_count": null,
      "outputs": []
    },
    {
      "cell_type": "markdown",
      "metadata": {
        "id": "cXe0ApSL2dVa"
      },
      "source": [
        "Podemos verificar las anotaciones para alguna de las derivadas\n",
        "\n",
        "Nota: El complejo **QRS** está anotado con **N**, y el inicio y final está anotado con paréntesis. La onda t y la onda p están marcadas con las letras correspondietes."
      ]
    },
    {
      "cell_type": "code",
      "metadata": {
        "id": "L27TRciKfwgD"
      },
      "source": [
        "idx = 0\n",
        "signal_i = signal[:,idx]\n",
        "derivada = metadata['sig_name'][idx]\n",
        "ext = \"atr_{}\".format(derivada)\n",
        "attr = wfdb.rdann('ludb/{}'.format(id), extension=ext)\n",
        "pd.DataFrame(zip(attr.sample, attr.symbol), columns=['# muestra', 'anotación']).T"
      ],
      "execution_count": null,
      "outputs": []
    },
    {
      "cell_type": "markdown",
      "metadata": {
        "id": "7HMJ08i72-OC"
      },
      "source": [
        "A continuación vamos a implementar una función para extraer las anotaciones del complejo QRS (marcadas con **N**)"
      ]
    },
    {
      "cell_type": "code",
      "metadata": {
        "id": "sryoEqp8oemh"
      },
      "source": [
        "def get_annotation(attr, symbol='N'):\n",
        "  symbols = np.array(attr.symbol)\n",
        "  samples = np.array(attr.sample)  \n",
        "  qrs_peak_idx = np.argwhere(symbols==symbol).ravel()\n",
        "  qrs_start_idx = qrs_peak_idx - 1\n",
        "  qrs_end_idx = qrs_peak_idx + 1\n",
        "  qrs_start_end_idx = np.concatenate([qrs_start_idx,qrs_end_idx])\n",
        "  qrs_start_end_idx.sort()\n",
        "  return samples[qrs_start_end_idx]"
      ],
      "execution_count": null,
      "outputs": []
    },
    {
      "cell_type": "markdown",
      "metadata": {
        "id": "3iUKsXNh7JsH"
      },
      "source": [
        "Podemos ver los puntos de inicio y final de cada completo QRS"
      ]
    },
    {
      "cell_type": "code",
      "metadata": {
        "id": "TAsGnj1l66Y6"
      },
      "source": [
        "anotaciones = get_annotation(attr, symbol='N')\n",
        "anotaciones"
      ],
      "execution_count": null,
      "outputs": []
    },
    {
      "cell_type": "code",
      "metadata": {
        "id": "IF8G1J2m8qQ9"
      },
      "source": [
        "plt.figure()\n",
        "plt.xlabel(\"Muestra\")\n",
        "plt.ylabel(\"Voltage (mV)\")\n",
        "plt.title(\"Paciente {} Derivada {}\".format(id, derivada))\n",
        "plt.vlines(anotaciones, signal_i.min(), signal_i.max(), color='r', linestyles='--', alpha=0.5)\n",
        "plt.plot(signal_i, color='k')"
      ],
      "execution_count": null,
      "outputs": []
    },
    {
      "cell_type": "markdown",
      "metadata": {
        "id": "xrrZa2J679nk"
      },
      "source": [
        "Eso lo podemos convertir a un arreglo binario (paralelo a la señal) de modo que haya 1's cuando estemos \"dentro\" del complejo QRS y 0 afuera."
      ]
    },
    {
      "cell_type": "code",
      "metadata": {
        "id": "xA866ta5639z"
      },
      "source": [
        "def get_QRS_target(attr, size=5000):\n",
        "  target = np.zeros(size)\n",
        "  segments = get_annotation(attr, 'N')\n",
        "  segments = segments.reshape(-1,2)\n",
        "  for s in segments:\n",
        "    target[s[0]:s[1]]=1\n",
        "  return target"
      ],
      "execution_count": null,
      "outputs": []
    },
    {
      "cell_type": "code",
      "metadata": {
        "id": "XftsNgUy8P3U"
      },
      "source": [
        "anotacion_binaria = get_QRS_target(attr, 5000)\n",
        "anotacion_binaria"
      ],
      "execution_count": null,
      "outputs": []
    },
    {
      "cell_type": "code",
      "metadata": {
        "id": "SVQqxLsh91lx"
      },
      "source": [
        "plt.figure()\n",
        "plt.title(\"Paciente {} Derivada {}\".format(id, derivada))\n",
        "plt.xlabel(\"Muestra\")\n",
        "plt.ylabel(\"Voltage (mV)\")\n",
        "plt.plot(signal_i, color='k')\n",
        "plt.plot(anotacion_binaria*signal_i.max(),color='r', alpha=0.5, label='Anotacion')\n",
        "plt.legend(loc=1)"
      ],
      "execution_count": null,
      "outputs": []
    },
    {
      "cell_type": "markdown",
      "metadata": {
        "id": "sX0qWnRPFIyK"
      },
      "source": [
        "## **Procesamiento del dataset**\n",
        "\n",
        "En esta sección usamos las funciones definidas previamente `get_QRS_target` para crear el ground truth con el cual entrenaremos la red neuronal. "
      ]
    },
    {
      "cell_type": "code",
      "metadata": {
        "id": "RJ51Zw7_MWUa"
      },
      "source": [
        "x = []\n",
        "y = []\n",
        "derivada_idx = 7 \n",
        "for id in range(1,201):\n",
        "  datos = wfdb.rdsamp('ludb/{}'.format(id))\n",
        "  signal = datos[0]\n",
        "  metadata = datos[1]\n",
        "  derivadas = metadata['sig_name']\n",
        "  derivada = derivadas[derivada_idx]\n",
        "  try:\n",
        "    ext = \"atr_{}\".format(derivada)\n",
        "    attr = wfdb.rdann('ludb/{}'.format(id), extension=ext)\n",
        "    y.append(get_QRS_target(attr, len(signal[:,derivada_idx])))\n",
        "    x.append(signal[:,derivada_idx])\n",
        "  except:\n",
        "    print(\"Error en el paciente {}\".format(id))\n",
        "x = np.vstack(x)\n",
        "y = np.vstack(y)\n",
        "\n",
        "x.shape, y.shape"
      ],
      "execution_count": null,
      "outputs": []
    },
    {
      "cell_type": "markdown",
      "metadata": {
        "id": "3MOiNUSbRoLy"
      },
      "source": [
        "Para facilitar las operaciones de la red neuronal, nos vamos a quedar con `4096` valores de los `5000`."
      ]
    },
    {
      "cell_type": "code",
      "metadata": {
        "id": "QOiDZnCRRoWh"
      },
      "source": [
        "x = x[:, 452:4548]\n",
        "y = y[:, 452:4548]\n",
        "x.shape, y.shape"
      ],
      "execution_count": null,
      "outputs": []
    },
    {
      "cell_type": "markdown",
      "metadata": {
        "id": "0YMh_wKnQLp4"
      },
      "source": [
        "Y vamos a dividir el data, en un conjunto de entrenamiento `train` y evaluación `val`. Por lo que acabaremos con las variables\n",
        "\n",
        "\n",
        "*  `x_train`\n",
        "*  `y_train`\n",
        "*  `x_val`\n",
        "*  `y_val`\n",
        "\n",
        "Vamos a entrenar el algoritmo, sólo usando la información de entrenamiento. Usaremos `random_state=42` para facilitar la reproducibilidad de nuestros experimentos.\n",
        "\n",
        "\n"
      ]
    },
    {
      "cell_type": "code",
      "metadata": {
        "id": "jsrUp1-aQ1cD"
      },
      "source": [
        "from sklearn.model_selection import train_test_split\n",
        "\n",
        "x_train, x_val, y_train, y_val = train_test_split(x, y, test_size=0.1, random_state=42)\n",
        "x_train.shape, x_val.shape, y_train.shape, y_val.shape"
      ],
      "execution_count": null,
      "outputs": []
    },
    {
      "cell_type": "markdown",
      "metadata": {
        "id": "M1ks7HTlMBbb"
      },
      "source": [
        "## **Entrenamiento de la Red Neuronal**\n",
        "\n",
        "### Arquitectura de TensorFlow 1.3\n",
        "\n",
        "<img src=\"https://3.bp.blogspot.com/-l2UT45WGdyw/Wbe7au1nfwI/AAAAAAAAD1I/GeQcQUUWezIiaFFRCiMILlX2EYdG49C0wCLcBGAs/s1600/image6.png\">"
      ]
    },
    {
      "cell_type": "code",
      "metadata": {
        "id": "bviVgzJzSPf7"
      },
      "source": [
        "%tensorflow_version 2.x\n",
        "import tensorflow as tf\n",
        "from tensorflow.keras.models import Sequential\n",
        "from tensorflow.keras.layers import Conv1D, BatchNormalization, MaxPool1D, UpSampling1D, AvgPool1D \n",
        "from tensorflow.keras.optimizers import SGD, Adam\n",
        "from tensorflow.keras.utils import plot_model"
      ],
      "execution_count": null,
      "outputs": []
    },
    {
      "cell_type": "markdown",
      "metadata": {
        "id": "5QlybPATjopz"
      },
      "source": [
        "### **Definimos la arquitectura de la red**"
      ]
    },
    {
      "cell_type": "code",
      "metadata": {
        "id": "3uyV5mYIARdd"
      },
      "source": [
        "#@title #**Estructura de la Red Neuronal**\n",
        "\n",
        "lr = 0.1 #@param [\"0.00001\", \"0.00005\", \"0.0001\", \"0.0005\", \"0.001\", \"0.005\", \"0.01\", \"0.05\", \"0.1\", \"0.5\"] {type:\"raw\"}\n",
        "#@markdown ##**Capa 1**\n",
        "n_filters_1 = 8 #@param [\"8\", \"16\", \"32\", \"64\", \"128\"] {type:\"raw\"}\n",
        "filter_size_1 = 3 #@param [\"3\", \"5\", \"7\", \"9\"] {type:\"raw\"}\n",
        "activation_1 = \"relu\" #@param [\"relu\", \"sigmoid\", \"tanh\", \"elu\"]\n",
        "#@markdown ##**Capa 2**\n",
        "n_filters_2 = 16 #@param [\"8\", \"16\", \"32\", \"64\", \"128\"] {type:\"raw\"}\n",
        "filter_size_2 = 3 #@param [\"3\", \"5\", \"7\", \"9\"] {type:\"raw\"}\n",
        "activation_2 = \"relu\" #@param [\"relu\", \"sigmoid\", \"tanh\", \"elu\"]\n",
        "#@markdown ##**Capa 3**\n",
        "n_filters_3 = 16 #@param [\"8\", \"16\", \"32\", \"64\", \"128\"] {type:\"raw\"}\n",
        "filter_size_3 = 3 #@param [\"3\", \"5\", \"7\", \"9\"] {type:\"raw\"}\n",
        "activation_3 = \"relu\" #@param [\"relu\", \"sigmoid\", \"tanh\", \"elu\"]\n",
        "#@markdown ##**Capa 4**\n",
        "n_filters_4 = 16 #@param [\"8\", \"16\", \"32\", \"64\", \"128\"] {type:\"raw\"}\n",
        "filter_size_4 = 3 #@param [\"3\", \"5\", \"7\", \"9\"] {type:\"raw\"}\n",
        "activation_4 = \"relu\" #@param [\"relu\", \"sigmoid\", \"tanh\", \"elu\"]\n",
        "#@markdown ##**Salida**\n",
        "activation_salida = \"relu\" #@param [\"relu\", \"sigmoid\", \"tanh\", \"elu\"]\n",
        "\n",
        "\n",
        "\n",
        "model = Sequential([Conv1D(n_filters_1, filter_size_1, activation=activation_1, input_shape=(4096,1), padding='same', kernel_initializer='he_normal'),\n",
        "                    MaxPool1D(),\n",
        "                    BatchNormalization(),\n",
        "\n",
        "                    Conv1D(n_filters_2, filter_size_2, activation=activation_2, padding='same',use_bias=False, kernel_initializer='he_normal'),\n",
        "                    MaxPool1D(),\n",
        "                    BatchNormalization(),\n",
        "                    \n",
        "                    Conv1D(n_filters_3, filter_size_3, activation=activation_3, padding='same',use_bias=False, kernel_initializer='he_normal'),\n",
        "                    MaxPool1D(),\n",
        "                    BatchNormalization(),\n",
        "                    \n",
        "                    Conv1D(n_filters_4, filter_size_4, activation=activation_4, padding='same',use_bias=False, kernel_initializer='he_normal'),\n",
        "                    MaxPool1D(),\n",
        "                    BatchNormalization(),\n",
        "                    \n",
        "                    \n",
        "                    UpSampling1D(),\n",
        "                    Conv1D(n_filters_4, filter_size_4, activation=activation_4, padding='same', kernel_initializer='he_normal'),\n",
        "                    BatchNormalization(),\n",
        "\n",
        "                    UpSampling1D(),\n",
        "                    Conv1D(n_filters_3, filter_size_3, activation=activation_3, padding='same', kernel_initializer='he_normal'),\n",
        "                    BatchNormalization(),\n",
        "\n",
        "                    UpSampling1D(),\n",
        "                    Conv1D(n_filters_2, filter_size_2, activation=activation_2, padding='same', kernel_initializer='he_normal'),\n",
        "                    BatchNormalization(),\n",
        "\n",
        "                    UpSampling1D(),\n",
        "                    Conv1D(n_filters_1, filter_size_1, activation=activation_1, padding='same', kernel_initializer='he_normal'),\n",
        "                    BatchNormalization(),\n",
        "\n",
        "                    Conv1D(1,  1, activation=activation_salida, padding='same', kernel_initializer='he_normal')])\n",
        "\n",
        "\n",
        "model.compile(optimizer=Adam(lr), loss='binary_crossentropy', metrics=['accuracy'])\n",
        "model.summary()\n",
        "plot_model(model)"
      ],
      "execution_count": null,
      "outputs": []
    },
    {
      "cell_type": "markdown",
      "metadata": {
        "id": "SWnNLy8vjuTV"
      },
      "source": [
        "### **Ajustamos el modelo**"
      ]
    },
    {
      "cell_type": "code",
      "metadata": {
        "id": "Zg_RoEqcOn7i"
      },
      "source": [
        "#@title #**Entrenamiento de la Red Neuronal**\n",
        "\n",
        "bs = 10 #@param {type:\"slider\", min:1, max:30, step:1}\n",
        "epochs = 6 #@param {type:\"slider\", min:1, max:200, step:1}\n",
        "log = model.fit(x_train[:,:,np.newaxis], \n",
        "                y_train[:,:,np.newaxis], \n",
        "                batch_size=bs, \n",
        "                epochs=epochs, \n",
        "                validation_data=(x_val[:,:,np.newaxis], \n",
        "                                 y_val[:,:,np.newaxis]))\n"
      ],
      "execution_count": null,
      "outputs": []
    },
    {
      "cell_type": "markdown",
      "metadata": {
        "id": "mCdVHVAnjxI4"
      },
      "source": [
        "### **Verifiquemos las curvas de entrenamiento**"
      ]
    },
    {
      "cell_type": "code",
      "metadata": {
        "id": "YyCWYBMXPT6A"
      },
      "source": [
        "plt.figure()\n",
        "plt.title(\"Loss x epoch\")\n",
        "plt.plot(log.history['loss'], label='train')\n",
        "plt.plot(log.history['val_loss'], label='test')\n",
        "plt.xlabel('epoch');\n",
        "plt.ylabel('loss')\n",
        "plt.legend()\n",
        "plt.show()\n"
      ],
      "execution_count": null,
      "outputs": []
    },
    {
      "cell_type": "code",
      "metadata": {
        "id": "-S0Z4rQBUs_0"
      },
      "source": [
        "plt.figure()\n",
        "plt.title(\"Accuracy x epoch\")\n",
        "plt.plot(log.history['accuracy'], label='train')\n",
        "plt.plot(log.history['val_accuracy'], label='test')\n",
        "plt.xlabel('epoch');\n",
        "plt.ylabel('accuracy')\n",
        "plt.legend()\n",
        "plt.show()"
      ],
      "execution_count": null,
      "outputs": []
    },
    {
      "cell_type": "markdown",
      "metadata": {
        "id": "0NefSQ1PYV_c"
      },
      "source": [
        "## **Resultados**"
      ]
    },
    {
      "cell_type": "markdown",
      "metadata": {
        "id": "0FTVsWEXj3jC"
      },
      "source": [
        "### Usemos el modelo entrenado para detectar el complejo QRS en el conjunto de evaluacuón"
      ]
    },
    {
      "cell_type": "code",
      "metadata": {
        "id": "WVoGyb7NXubL"
      },
      "source": [
        "y_predicted = model.predict(x_val[:,:,np.newaxis])"
      ],
      "execution_count": null,
      "outputs": []
    },
    {
      "cell_type": "markdown",
      "metadata": {
        "id": "j369fEHzkCcd"
      },
      "source": [
        "### Mostremos todos los gráficos"
      ]
    },
    {
      "cell_type": "code",
      "metadata": {
        "id": "IwAGJJBRX-Hk"
      },
      "source": [
        "#@title Mostrar los resultados { run: \"auto\" }\n",
        "th = 0.34 #@param {type:\"slider\", min:0, max:1, step:0.01}\n",
        "idx = 8 #@param {type:\"slider\", min:1, max:20, step:1}\n",
        "\n",
        "plt.figure(figsize=(30,6))\n",
        "plt.subplot(1,2, 1)\n",
        "plt.plot(y_predicted[idx,:,0], alpha=0.5)\n",
        "plt.plot(y_val[idx,:], alpha=0.5)\n",
        "plt.hlines(th*1300, 0, 4096, color='k', linestyles='--', alpha=0.5, label='threhsold')\n",
        "plt.legend(loc=5)\n",
        "plt.subplot(1,2, 2)\n",
        "plt.plot(x_val[idx,:], color='k')\n",
        "plt.ylim(-1300,1300)\n",
        "plt.fill_between(np.arange(4096), \n",
        "                (y_predicted[idx,:,0]>th)*1300, \n",
        "                (y_predicted[idx,:,0]>th)*-1300,\n",
        "                alpha=0.4,\n",
        "                color='red')\n",
        "plt.show()\n",
        "  \n",
        "  \n"
      ],
      "execution_count": null,
      "outputs": []
    },
    {
      "cell_type": "code",
      "metadata": {
        "id": "W_L15wt69Igy"
      },
      "source": [
        ""
      ],
      "execution_count": null,
      "outputs": []
    }
  ]
}